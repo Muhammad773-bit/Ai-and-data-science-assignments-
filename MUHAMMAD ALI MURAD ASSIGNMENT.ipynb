{
 "cells": [
  {
   "cell_type": "markdown",
   "id": "37cc6279-18b3-44f6-9663-142000e6a296",
   "metadata": {},
   "source": [
    "\n",
    "# NAME = MUHAMMAD ALI MURAD\n",
    "# ASSIGNMENT = ASSIGNMENT 1, 2\n",
    "# ID = 334866"
   ]
  },
  {
   "cell_type": "code",
   "execution_count": 2,
   "id": "6032f0dd",
   "metadata": {},
   "outputs": [
    {
     "data": {
      "text/plain": [
       "'IF ELSE CONDITIOON'"
      ]
     },
     "execution_count": 2,
     "metadata": {},
     "output_type": "execute_result"
    }
   ],
   "source": [
    "\"IF ELSE CONDITIOON\""
   ]
  },
  {
   "cell_type": "markdown",
   "id": "0c953d52",
   "metadata": {},
   "source": [
    "# 1.\tCheck Discount Eligibility\n",
    "Write a program to check if a customer is eligible for a discount. If the total purchase is more than $100, apply a 10% discount and display the final price. Otherwise, display the total price as it is.\n",
    "\n"
   ]
  },
  {
   "cell_type": "code",
   "execution_count": 16,
   "id": "993f57d2",
   "metadata": {},
   "outputs": [
    {
     "name": "stdout",
     "output_type": "stream",
     "text": [
      "write your total_bill to check that you're eligible for discount or not : 150\n",
      "here is your dicount:135.0 your bill 150\n"
     ]
    }
   ],
   "source": [
    "total_purchase = 100\n",
    "bill = eval(input(\"write your total_bill to check that you're eligible for discount or not : \"))\n",
    "if bill >= total_purchase:\n",
    "    discount = (bill*0.9)\n",
    "    print(f\"here is your dicount:{discount} your bill {bill}\")\n",
    "        \n",
    "else:\n",
    "    print(f\"you're not eligible for discount{bill}\")\n",
    "            \n",
    "            "
   ]
  },
  {
   "cell_type": "markdown",
   "id": "e13901c2",
   "metadata": {},
   "source": [
    "## 2.\tCalculate Bulk Discount\n",
    "If a customer buys more than 5 items, apply a 15% discount on the total price. Otherwise, no discount is applied. Display the total price.\n"
   ]
  },
  {
   "cell_type": "code",
   "execution_count": 23,
   "id": "4157ef54",
   "metadata": {},
   "outputs": [
    {
     "name": "stdout",
     "output_type": "stream",
     "text": [
      "how many shirts you want : 16\n",
      "you're eligible for a discount shirts 1360.0 and here is your bill 1600\n"
     ]
    }
   ],
   "source": [
    "price_shirt = 100\n",
    "shirts = eval(input(\"how many shirts you want : \"))\n",
    "total_bill = shirts * price_shirt\n",
    "if shirts >= 5:\n",
    "    discount = total_bill*0.85\n",
    "    print(f\"you're eligible for a discount shirts {discount} and here is your bill {total_bill}\")\n",
    "else:\n",
    "    print(f\"here is your bill {total_bill} thanks for shopping\")"
   ]
  },
  {
   "cell_type": "markdown",
   "id": "e8618f11",
   "metadata": {},
   "source": [
    "## 3.\tMembership Discount\n",
    "Check if the customer is a member (is_member = True). Members get a 20% discount; non-members get a 5% discount. Calculate and print the discounted price.\n"
   ]
  },
  {
   "cell_type": "code",
   "execution_count": 21,
   "id": "a692f62c",
   "metadata": {},
   "outputs": [
    {
     "name": "stdout",
     "output_type": "stream",
     "text": [
      "how many shirts you want : 54\n",
      "enter the code for verifying that you're our member1234\n",
      "as you're our member so can get 20% discount 4590.0\n"
     ]
    }
   ],
   "source": [
    "price_shirt = 100\n",
    "shirts = eval(input(\"how many shirts you want : \"))\n",
    "member = input(\"enter the code for verifying that you're our member\")\n",
    "code = \"1234\"\n",
    "\n",
    "total_bill = shirts * price_shirt\n",
    "if member == code:\n",
    "    discount = total_bill*0.85\n",
    "    print(f\"as you're our member so can get 20% discount {discount}\")        \n",
    "else:\n",
    "    discount_2 =  total_bill*0.05\n",
    "    print(f\"you're eligible for a discount but only 5% becz you're not a member {discount_2} and here is your bill {total_bill}\")"
   ]
  },
  {
   "cell_type": "markdown",
   "id": "247113e0",
   "metadata": {},
   "source": [
    "## 4.\tSeasonal Sale\n",
    "If today is a holiday (is_holiday = True), apply a 25% discount; otherwise, apply a 10% discount. Calculate the price after discount.\n"
   ]
  },
  {
   "cell_type": "code",
   "execution_count": 22,
   "id": "35eb5297",
   "metadata": {},
   "outputs": [
    {
     "name": "stdout",
     "output_type": "stream",
     "text": [
      "enter the price the product that you get : 2000\n",
      "enter the holiday_promo code : 8540\n",
      "here is your holiday special discount of 25% 1500.0 THANKS for SHOPPING!\n"
     ]
    }
   ],
   "source": [
    "prod = eval(input(\"enter the price the product that you get : \"))\n",
    "\n",
    "#is_holiday = True\n",
    "holiday_promo_code = 8540\n",
    "code = eval(input(\"enter the holiday_promo code : \"))\n",
    "if code == holiday_promo_code:\n",
    "    discount = prod*0.75\n",
    "    print(f\"here is your holiday special discount of 25% {discount} THANKS for SHOPPING!\")\n",
    "else:\n",
    "    discount_2 = prod*0.9\n",
    "    print(f\"today is no holiday, but you get discount of 10% {discount_2}\")\n",
    "    \n",
    "            "
   ]
  },
  {
   "cell_type": "markdown",
   "id": "07b8e539",
   "metadata": {},
   "source": [
    "## 5.\tBuy-One-Get-One-Free\n",
    "If a customer buys an even number of items, they get half of them for free. Otherwise, they pay for all. Calculate the number of items the customer has to pay for.\n"
   ]
  },
  {
   "cell_type": "code",
   "execution_count": 37,
   "id": "39d7d061",
   "metadata": {},
   "outputs": [
    {
     "name": "stdout",
     "output_type": "stream",
     "text": [
      "how much items you've bought ? : 6\n",
      "congrats you have to pay only for  3 items\n"
     ]
    }
   ],
   "source": [
    "bill = eval(input(\"how much items you've bought ? : \"))\n",
    "if bill % 2 == 0:\n",
    "    items = bill//2\n",
    "    print(f\"congrats you have to pay only for  {items} items\")\n",
    "else:\n",
    "    print(f\"you have to pay all {bill}\")\n",
    "                  \n",
    "                  "
   ]
  },
  {
   "cell_type": "markdown",
   "id": "f748f08d",
   "metadata": {},
   "source": [
    "# B-\tTax Calculations"
   ]
  },
  {
   "cell_type": "markdown",
   "id": "2103c732",
   "metadata": {},
   "source": [
    "## 6.\tSales Tax\n",
    "If the price of an item is greater than $500, apply a luxury tax of 15%. Otherwise, apply a standard tax of 8%. Display the total price after tax.\n"
   ]
  },
  {
   "cell_type": "code",
   "execution_count": 11,
   "id": "2c821a85",
   "metadata": {},
   "outputs": [
    {
     "name": "stdout",
     "output_type": "stream",
     "text": [
      "enter the total of your shopping : 58000\n",
      "you have to pay 15% tax on buying a luxury item so your total bill is 66700.0 thank for shopping\n"
     ]
    }
   ],
   "source": [
    "bill = eval(input(\"enter the total of your shopping : \"))\n",
    "if bill > 500:\n",
    "    tax = bill*0.15\n",
    "    lux_tax = bill+tax\n",
    "    print(f\"you have to pay 15% tax on buying a luxury item so your total bill is {lux_tax} thank for shopping\")\n",
    "else:\n",
    "    tax_2 = bill*0.08\n",
    "    total = bill+tax_2\n",
    "    print(f\"your total bill after tax is {total}\")\n",
    "    "
   ]
  },
  {
   "cell_type": "markdown",
   "id": "f5ee1a08",
   "metadata": {},
   "source": [
    "7.\tIncome Tax\n",
    "If a person's annual income is above $50,000, they pay 20% tax. Otherwise, they pay 10%. Calculate and display the tax amount. "
   ]
  },
  {
   "cell_type": "code",
   "execution_count": 14,
   "id": "2847ab47",
   "metadata": {},
   "outputs": [
    {
     "name": "stdout",
     "output_type": "stream",
     "text": [
      "enter the your salary after all commisions and etc allounces : 60000\n",
      "you have to pay 20% tax on salary that's your amount of tax 12000.0\n"
     ]
    }
   ],
   "source": [
    "sal = eval(input(\"enter the your salary after all commisions and etc allounces : \"))\n",
    "if sal > 50000:\n",
    "    tax = sal*0.20\n",
    "    sal_tax = tax\n",
    "    print(f\"you have to pay 20% tax on salary that's your amount of tax {sal_tax}\")\n",
    "else:\n",
    "    tax_2 = sal*0.08\n",
    "    total = tax_2\n",
    "    print(f\"you have to pay 10% tax on your salary that's your amount of tax {total}\")\n",
    "    "
   ]
  },
  {
   "cell_type": "markdown",
   "id": "68eea1e4",
   "metadata": {},
   "source": [
    "## 8.\tTax Bracket\n",
    "Write a program to categorize a person into tax brackets:\n",
    "\tIncome < $30,000: \"Low Tax\"\n",
    "\t$30,000 ≤ Income < $100,000: \"Medium Tax\"\n",
    "\tIncome ≥ $100,000: \"High Tax\"\n"
   ]
  },
  {
   "cell_type": "code",
   "execution_count": 27,
   "id": "db41c2c1",
   "metadata": {},
   "outputs": [
    {
     "name": "stdout",
     "output_type": "stream",
     "text": [
      "enter your salary : 9500000\n",
      "you have to pay 20% tax on salary that's your amount of tax 1900000.0\n"
     ]
    }
   ],
   "source": [
    "salary = float(input(\"enter your salary : \"))\n",
    "if salary < 30000:\n",
    "    tax = salary*0.05\n",
    "    sal_tax = tax\n",
    "    print(f\"you have to pay 5% tax on salary that's your amount of tax {sal_tax}\")\n",
    "elif salary >= 30000 and salary <= 100000:\n",
    "    tax_2 = salary*0.10\n",
    "    sal_tax_2 = tax_2\n",
    "    print(f\"you have to pay 10% tax on salary that's your amount of tax {sal_tax_2}\")\n",
    "elif salary > 100000:\n",
    "    tax_3 = salary*0.20\n",
    "    \n",
    "    sal_tax_3 = tax_3\n",
    "    print(f\"you have to pay 20% tax on salary that's your amount of tax {sal_tax_3}\")\n",
    "else:\n",
    "    print(\"please be serious\")\n",
    "    "
   ]
  },
  {
   "cell_type": "markdown",
   "id": "718157d4",
   "metadata": {},
   "source": [
    "## V|AT Calculation\n",
    "If the item is marked as essential (is_essential = True), apply a VAT of 5%. Otherwise, apply a VAT of 12%. Display the final price.\n"
   ]
  },
  {
   "cell_type": "code",
   "execution_count": 28,
   "id": "cedf6275",
   "metadata": {},
   "outputs": [],
   "source": [
    "is_essential = True\n"
   ]
  },
  {
   "cell_type": "markdown",
   "id": "7df1bbb9",
   "metadata": {},
   "source": [
    "## 10.\tTax-Free Day\n",
    "If today is a tax-free day (tax_free = True), display the original price. Otherwise, add a 7% tax.\n"
   ]
  },
  {
   "cell_type": "code",
   "execution_count": 6,
   "id": "8caad38b",
   "metadata": {},
   "outputs": [
    {
     "name": "stdout",
     "output_type": "stream",
     "text": [
      "enter the price of your product : 150000\n",
      "enter the today's day : sunday\n",
      "today is a tax_free so you just pay original price 150000 \n"
     ]
    }
   ],
   "source": [
    "bill = eval(input(\"enter the price of your product : \"))\n",
    "day = input(\"enter the today's day : \")\n",
    "tax_day = \"sunday\"\n",
    "tax_free = True \n",
    "if day == tax_day:\n",
    "    tax_f = bill\n",
    "    print(f\"today is a tax_free so you just pay original price {tax_f} \")\n",
    "else:\n",
    "    tax = bill*0.07\n",
    "    pay = bill+tax\n",
    "    print(f\"you have to pay 7% tax on total bill {pay} \")\n",
    "    "
   ]
  },
  {
   "cell_type": "markdown",
   "id": "26bbe0cc",
   "metadata": {},
   "source": [
    "# C-\tShopping and Billing"
   ]
  },
  {
   "cell_type": "markdown",
   "id": "0d92efb1",
   "metadata": {},
   "source": [
    "## 11.\tFree Shipping\n",
    "If the total purchase amount is more than $50, offer free shipping; otherwise, charge $5 for shipping. Display the total amount including shipping.\n"
   ]
  },
  {
   "cell_type": "code",
   "execution_count": 11,
   "id": "a49d6251",
   "metadata": {},
   "outputs": [
    {
     "name": "stdout",
     "output_type": "stream",
     "text": [
      "enter the total amount of purchase $ : 900\n",
      "as you purchase more than 50$ so according to our policy we give you a \n",
      "          free delivery and total bill 900$ \n"
     ]
    }
   ],
   "source": [
    "total = eval(input(\"enter the total amount of purchase $ : \"))\n",
    "if total > 50:\n",
    "    print(f\"\"\"as you purchase more than 50$ so according to our policy we give you a \n",
    "          free delivery and total bill {total}$ \"\"\")\n",
    "elif total <= 50:\n",
    "    charges = total*0.05\n",
    "    del_charges = total+charges\n",
    "    print(f\"your total bill after shipping charges is {del_charges}$\")\n",
    "    \n",
    "\n",
    "    "
   ]
  },
  {
   "cell_type": "markdown",
   "id": "d7967167",
   "metadata": {},
   "source": [
    "## 12.\tDiscount Code\n",
    "If a customer enters the correct discount code (DISCOUNT10), apply a 10% discount. Otherwise, charge the full amount.\n"
   ]
  },
  {
   "cell_type": "code",
   "execution_count": 14,
   "id": "cc92c69e",
   "metadata": {},
   "outputs": [
    {
     "name": "stdout",
     "output_type": "stream",
     "text": [
      "enter the promo code for get a good discount : DISCOUNT10\n",
      "congrats you got 10% on your purchase\n"
     ]
    }
   ],
   "source": [
    "discount  = input(\"enter the promo code for get a good discount : \")\n",
    "code = 'DISCOUNT10'\n",
    "if discount == code:\n",
    "    print(\"congrats you got 10% on your purchase\")\n",
    "else:\n",
    "    print(\"invalid! sorry you cannot get any discount.\")\n"
   ]
  },
  {
   "cell_type": "markdown",
   "id": "1731f062",
   "metadata": {},
   "source": [
    "## 13.\tTiered Discounts\n",
    "Apply discounts based on the total price:\n",
    "\t$0–$50: No discount.\n",
    "\t$50–$100: 10% discount.\n",
    "\tOver $100: 20% discount.\n"
   ]
  },
  {
   "cell_type": "code",
   "execution_count": 15,
   "id": "cf344dd9",
   "metadata": {},
   "outputs": [
    {
     "name": "stdout",
     "output_type": "stream",
     "text": [
      "Enter the total price of your purchase: $200\n",
      "Congrats! You got a 20% discount.\n",
      "Your final price after applying the discount is: $160.0\n"
     ]
    }
   ],
   "source": [
    "total_price = eval(input(\"Enter the total price of your purchase: $\"))\n",
    "if total_price <= 50:\n",
    "    discount = 0\n",
    "    print(\"No discount applied.\")\n",
    "elif 50 < total_price <= 100:\n",
    "    discount = 10\n",
    "    print(\"Congrats! You got a 10% discount.\")\n",
    "else:\n",
    "    discount = 20\n",
    "    print(\"Congrats! You got a 20% discount.\")\n",
    "\n",
    "final_price = total_price - (total_price * discount / 100)\n",
    "print(f\"Your final price after applying the discount is: ${final_price}\")\n"
   ]
  },
  {
   "cell_type": "markdown",
   "id": "db5224aa-d874-42e2-9a4a-46f13b454f5d",
   "metadata": {},
   "source": []
  },
  {
   "cell_type": "code",
   "execution_count": null,
   "id": "3a2efedf-6255-4d17-b42e-809b2ec54c0c",
   "metadata": {},
   "outputs": [],
   "source": [
    "\n"
   ]
  }
 ],
 "metadata": {
  "kernelspec": {
   "display_name": "Python 3 (ipykernel)",
   "language": "python",
   "name": "python3"
  },
  "language_info": {
   "codemirror_mode": {
    "name": "ipython",
    "version": 3
   },
   "file_extension": ".py",
   "mimetype": "text/x-python",
   "name": "python",
   "nbconvert_exporter": "python",
   "pygments_lexer": "ipython3",
   "version": "3.13.1"
  }
 },
 "nbformat": 4,
 "nbformat_minor": 5
}
