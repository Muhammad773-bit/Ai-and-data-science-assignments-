{
 "cells": [
  {
   "cell_type": "markdown",
   "id": "4698157d-760e-4882-963b-005b34c008dd",
   "metadata": {},
   "source": [
    "# LIST "
   ]
  },
  {
   "cell_type": "markdown",
   "id": "dff85631-ab62-47e2-bba4-344f26a6082b",
   "metadata": {},
   "source": [
    "#### Write a program that accepts a list from user and print the alternate element of list."
   ]
  },
  {
   "cell_type": "code",
   "execution_count": 1,
   "id": "725e8ff9-85f3-4ada-b80f-d60e6ffb9797",
   "metadata": {},
   "outputs": [
    {
     "name": "stdin",
     "output_type": "stream",
     "text": [
      "Enter a list (e.g., [1, 2, 3, 4, 5]):   4, 5,  6, 7, 10, 11\n"
     ]
    },
    {
     "name": "stdout",
     "output_type": "stream",
     "text": [
      "Alternate elements of the list: (4, 6, 10)\n"
     ]
    }
   ],
   "source": [
    "user_list = eval(input(\"Enter a list (e.g., [1, 2, 3, 4, 5]): \"))\n",
    "alternate_elements = user_list[::2]\n",
    "print(f\"Alternate elements of the list: {alternate_elements}\")\n"
   ]
  },
  {
   "cell_type": "markdown",
   "id": "1cbce5d9-e464-4708-b8a4-d89c2790a720",
   "metadata": {},
   "source": [
    "#### Write a program that accepts a list from user. Your program should reverse the content of list and \n",
    "display it. Do not use reverse() method. \n"
   ]
  },
  {
   "cell_type": "code",
   "execution_count": 2,
   "id": "ac96660f-fa16-4164-aa73-55739a53085f",
   "metadata": {},
   "outputs": [
    {
     "name": "stdin",
     "output_type": "stream",
     "text": [
      "Enter a list (e.g., [1, 2, 3, 4, 5]):  1,2,3,4,5,6,7,8\n"
     ]
    },
    {
     "name": "stdout",
     "output_type": "stream",
     "text": [
      "Reversed list: (8, 7, 6, 5, 4, 3, 2, 1)\n"
     ]
    }
   ],
   "source": [
    "user_list = eval(input(\"Enter a list (e.g., [1, 2, 3, 4, 5]): \"))\n",
    "reversed_list = user_list[::-1]  # Slicing to reverse the list\n",
    "print(f\"Reversed list: {reversed_list}\")\n"
   ]
  },
  {
   "cell_type": "markdown",
   "id": "928694c9-f5e1-4a3b-9603-ecbdf05ae940",
   "metadata": {},
   "source": [
    "#### Find and display the largest number of a list without using built-in function max(). Your program \n",
    "should ask the user to input values in list from keyboard.  "
   ]
  },
  {
   "cell_type": "code",
   "execution_count": 4,
   "id": "0e8bd089-0b34-4159-8e6e-6040814578d4",
   "metadata": {},
   "outputs": [
    {
     "name": "stdin",
     "output_type": "stream",
     "text": [
      "Enter a list of numbers (e.g., [1, 2, 3, 4, 5]):  1,2,3,4,5,6,7,8,9\n"
     ]
    },
    {
     "name": "stdout",
     "output_type": "stream",
     "text": [
      "The largest number in the list is: 9\n"
     ]
    }
   ],
   "source": [
    "user_list = eval(input(\"Enter a list of numbers (e.g., [1, 2, 3, 4, 5]): \"))\n",
    "largest = user_list[0]\n",
    "for num in user_list:\n",
    "    if num > largest:\n",
    "        largest = num\n",
    "\n",
    "print(f\"The largest number in the list is: {largest}\")"
   ]
  },
  {
   "cell_type": "markdown",
   "id": "b7bffa07-7691-4b7c-b23a-e5f1c6daa2ed",
   "metadata": {},
   "source": [
    "### Write a program that rotates the element of a list so that the element at the first index moves to the \n",
    "second index, the element in the second index moves to the third index, etc., and the element in the last \n",
    "index moves to the first index.   "
   ]
  },
  {
   "cell_type": "code",
   "execution_count": 7,
   "id": "5ad4a513-f250-40f4-8ead-94c2eff03736",
   "metadata": {},
   "outputs": [
    {
     "name": "stdin",
     "output_type": "stream",
     "text": [
      "Enter a list (e.g., [1, 2, 3, 4, 5]):  1,2,3,4,5\n"
     ]
    },
    {
     "name": "stdout",
     "output_type": "stream",
     "text": [
      "Rotated list: (5, 1, 2, 3, 4)\n"
     ]
    }
   ],
   "source": [
    "user_list = eval(input(\"Enter a list (e.g., [1, 2, 3, 4, 5]): \"))\n",
    "\n",
    "# Perform rotation by slicing\n",
    "rotated_list = user_list[-1:] + user_list[:-1]  # Last element moved to the front\n",
    "\n",
    "print(f\"Rotated list: {rotated_list}\")\n"
   ]
  },
  {
   "cell_type": "code",
   "execution_count": 14,
   "id": "dc67556a-7d37-4af8-b5e0-b7bf1262556e",
   "metadata": {},
   "outputs": [
    {
     "data": {
      "text/plain": [
       "(5, 1, 2, 3, 4)"
      ]
     },
     "execution_count": 14,
     "metadata": {},
     "output_type": "execute_result"
    }
   ],
   "source": [
    "items = [ 1,2,3,4,5]\n",
    "rotated_list = user_list[-1:] + user_list[:-1] \n",
    "rotated_list"
   ]
  },
  {
   "cell_type": "markdown",
   "id": "9c872ac1-b403-4d77-9e5e-18dd600dba4d",
   "metadata": {},
   "source": [
    "### Write a program that input a string and ask user to delete a given word from a string. "
   ]
  },
  {
   "cell_type": "code",
   "execution_count": 28,
   "id": "8a9faae0-8dab-4cd0-b295-c8547a380293",
   "metadata": {},
   "outputs": [
    {
     "name": "stdin",
     "output_type": "stream",
     "text": [
      "enter the list of item :  adapter, noodle, facewash, pizza\n",
      "tell me which item you want to remove :  pizza\n"
     ]
    },
    {
     "name": "stdout",
     "output_type": "stream",
     "text": [
      "here is your updated list of item ['adapter,', 'noodle,', 'facewash,']\n",
      "and here is your deleted itempizza\n"
     ]
    }
   ],
   "source": [
    "user = input(\"enter the list of item : \").split()\n",
    "delet = input(\"tell me which item you want to remove : \")\n",
    "user.remove(delet)\n",
    "print(f\"here is your updated list of item {user}\")\n",
    "print(f\"and here is your deleted item{delet}\")"
   ]
  },
  {
   "cell_type": "markdown",
   "id": "d77d5193-2cc7-4632-8b92-a02d16df9b61",
   "metadata": {},
   "source": [
    "## . Write a program that reads a string from the user containing a date in the form mm/dd/yyyy. It \n",
    "should print the date in the form March 12, 2021.  "
   ]
  },
  {
   "cell_type": "code",
   "execution_count": 61,
   "id": "c9fa8002-f39d-4adc-aad3-017d5cc8cf8b",
   "metadata": {},
   "outputs": [
    {
     "name": "stdin",
     "output_type": "stream",
     "text": [
      "enter a date in this format mm/dd/yyyy :  4/12/2023\n"
     ]
    },
    {
     "name": "stdout",
     "output_type": "stream",
     "text": [
      "April 12, 2023\n"
     ]
    }
   ],
   "source": [
    "months = {\n",
    "    1: \"January\", 2: \"February\", 3: \"March\", 4: \"April\",\n",
    "    5: \"May\", 6: \"June\", 7: \"July\", 8: \"August\",\n",
    "    9: \"September\", 10: \"October\", 11: \"November\", 12 : \"December\"\n",
    "}\n",
    "user = input(\"enter a date in this format mm/dd/yyyy : \").split(\"/\")\n",
    "print(f\"{months.get(int(user[0]))} {user[1]}, {user[2]}\")\n",
    "#print(f\"here is your date {mon} {user[1]} {user[2]}\")\n"
   ]
  },
  {
   "cell_type": "markdown",
   "id": "e913d5d9-ee90-4a56-b0aa-a15cdbcfe8d8",
   "metadata": {},
   "source": [
    "###  Write a program with a function that accepts a string from keyboard and create a new string after \n",
    "converting character of each word capitalized. For instance, if the sentence is \"stop and smell the roses.\" \n",
    "the output should be \"Stop And Smell The Roses\" "
   ]
  },
  {
   "cell_type": "code",
   "execution_count": 62,
   "id": "043bc245-195f-4af3-8fa6-f7fdc51d4047",
   "metadata": {},
   "outputs": [
    {
     "name": "stdin",
     "output_type": "stream",
     "text": [
      "enter the statement what you want :  stop and smell the roses\n"
     ]
    },
    {
     "name": "stdout",
     "output_type": "stream",
     "text": [
      "Stop And Smell The Roses\n"
     ]
    }
   ],
   "source": [
    "#used 'title' for make capital first word \n",
    "tit = input(\"enter the statement what you want : \")\n",
    "make_cap = tit.title()\n",
    "print(make_cap)"
   ]
  },
  {
   "cell_type": "markdown",
   "id": "3d3fca62-4977-4dd9-ac0a-767e6d2e5edd",
   "metadata": {},
   "source": [
    "# CONDITIONAL STATMENT"
   ]
  },
  {
   "cell_type": "markdown",
   "id": "22ee6cbc-98c9-4006-89d0-506cfed78178",
   "metadata": {},
   "source": [
    " Write a program that prompts the user to input a number and display if the number \n",
    "is even or odd.  \n"
   ]
  },
  {
   "cell_type": "code",
   "execution_count": 65,
   "id": "1e0fcd84-0fce-470d-b5e2-78e7f1e00dae",
   "metadata": {},
   "outputs": [
    {
     "name": "stdin",
     "output_type": "stream",
     "text": [
      "Enter a number:  28\n"
     ]
    },
    {
     "name": "stdout",
     "output_type": "stream",
     "text": [
      "28 is even.\n"
     ]
    }
   ],
   "source": [
    "number = int(input(\"Enter a number: \"))\n",
    "\n",
    "if number % 2 == 0:\n",
    "    print(f\"{number} is even.\")\n",
    "else:\n",
    "    print(f\"{number} is odd.\")"
   ]
  },
  {
   "cell_type": "markdown",
   "id": "e27b9edb-2184-4fe9-9e4e-9f3ee5d6ff31",
   "metadata": {},
   "source": [
    "##### Write a Python program that takes an age as input and determines whether a person \n",
    "    is eligible to vote. If the age is 18 or above, print \"You are eligible to vote.\" Otherwise, \n",
    "    print \"You are not eligible to vote yet.\". "
   ]
  },
  {
   "cell_type": "code",
   "execution_count": 69,
   "id": "e35862a1-e6ec-41c9-baa2-5599eb826305",
   "metadata": {},
   "outputs": [
    {
     "name": "stdin",
     "output_type": "stream",
     "text": [
      "enter your age :  19\n"
     ]
    },
    {
     "name": "stdout",
     "output_type": "stream",
     "text": [
      "you're eligible for vote \n"
     ]
    }
   ],
   "source": [
    "user = float(input(\"enter your age : \"))\n",
    "if user >= 18:\n",
    "    print(\"you're eligible for vote \")\n",
    "else:\n",
    "    print(\"you're not eligible for vote\")"
   ]
  },
  {
   "cell_type": "markdown",
   "id": "c74b2b42-b836-486c-b404-f5f5dd647cb8",
   "metadata": {},
   "source": [
    "Write a program that prompts the user to input two integers and outputs the largest."
   ]
  },
  {
   "cell_type": "code",
   "execution_count": 74,
   "id": "fae7bca6-4272-438b-9244-3cba238a1ace",
   "metadata": {},
   "outputs": [
    {
     "name": "stdin",
     "output_type": "stream",
     "text": [
      "enter a integer i'll tell you which will be the largest :  90909\n",
      "enter a 2nd integer :  928349823\n"
     ]
    },
    {
     "name": "stdout",
     "output_type": "stream",
     "text": [
      "your 2nd entry is the largest : 928349823\n"
     ]
    }
   ],
   "source": [
    "user = eval(input(\"enter a integer i'll tell you which will be the largest : \"))\n",
    "user_2 = eval(input(\"enter a 2nd integer : \"))\n",
    "if user > user_2:\n",
    "    print(f\"largest number : {user}\")\n",
    "elif user_2 > user:\n",
    "    print(f\"your 2nd entry is the largest : {user_2}\")\n",
    "else:\n",
    "    print('error')"
   ]
  },
  {
   "cell_type": "markdown",
   "id": "160e7fd6-511f-49e9-a1a5-78ccf3a80a7b",
   "metadata": {},
   "source": [
    "Write a program that prompts the user to enter a number and determines whether it \n",
    "is positive, negative, or zero. The program should print \"Positive\" if the number is \n",
    "greater than 0, \"Negative\" if the number is less than 0, and \"Zero\" if the number is 0. "
   ]
  },
  {
   "cell_type": "code",
   "execution_count": 81,
   "id": "80e0104a-f6d8-4cc4-8745-54f543b33a46",
   "metadata": {},
   "outputs": [
    {
     "name": "stdin",
     "output_type": "stream",
     "text": [
      "enter the number :  3249859328\n"
     ]
    },
    {
     "name": "stdout",
     "output_type": "stream",
     "text": [
      "positive number 3249859328\n"
     ]
    }
   ],
   "source": [
    "user = eval(input(\"enter the number : \"))\n",
    "if user > 0:\n",
    "    print(f\"positive number {user}\")\n",
    "    \n",
    "elif user < 0:\n",
    "    print(f\"negative number {user}\")\n",
    "elif user == 0:\n",
    "    print(f\"zero {user}\")"
   ]
  },
  {
   "cell_type": "markdown",
   "id": "fbc8c41a-5414-4f3a-beb1-86567b414b69",
   "metadata": {},
   "source": [
    " Write a program that prompts the user to enter their age and prints the \n",
    "corresponding age group. The program should use the following age groups: \n",
    "0-12:   \n",
    "13-19:   \n",
    "20-59:   \n",
    "60 and above:  \n",
    "Child \n",
    "Teenager \n",
    "Adult \n",
    "Senior Citizen \n"
   ]
  },
  {
   "cell_type": "code",
   "execution_count": 88,
   "id": "b001930e-ccce-4474-9307-846c8dc3cf8f",
   "metadata": {},
   "outputs": [
    {
     "name": "stdin",
     "output_type": "stream",
     "text": [
      "enter your age here :  11\n"
     ]
    },
    {
     "name": "stdout",
     "output_type": "stream",
     "text": [
      "you are child , please go to child section\n"
     ]
    }
   ],
   "source": [
    "user = eval(input(\"enter your age here : \"))\n",
    "if user >= 0 and user <= 12:\n",
    "    print(\"you are child , please go to child section\")\n",
    "elif user >= 13 and user <= 19:\n",
    "    print(\"you're in a teenager\")\n",
    "elif user >= 20 and user <= 59:\n",
    "    print(\"you are in adult group, so go to adult sec \")\n",
    "elif user >= 60:\n",
    "    print(\"you are in senior citizen group, so go to that sec\")\n"
   ]
  },
  {
   "cell_type": "markdown",
   "id": "7a82f239-1bc8-4c3b-9ba7-20d034fb9b1e",
   "metadata": {},
   "source": [
    "Write a program that prompts the user to input a number from 1 to 7. The program \n",
    "should display the corresponding day for the given number. For example, if the user \n",
    "types 1, the output should be Sunday. If the user types 7, the output should be \n",
    "Saturday. If the number is not between 1 to 7 user should get error message as shown \n",
    "in sample output."
   ]
  },
  {
   "cell_type": "code",
   "execution_count": 91,
   "id": "205054b6-62e9-495a-8b15-cd56f24d27d1",
   "metadata": {},
   "outputs": [
    {
     "name": "stdin",
     "output_type": "stream",
     "text": [
      "enter the number from 1 to 7 :  7\n"
     ]
    },
    {
     "name": "stdout",
     "output_type": "stream",
     "text": [
      "saturday\n"
     ]
    }
   ],
   "source": [
    "user = eval(input('enter the number from 1 to 7 : '))\n",
    "if user == 1:\n",
    "    print(\"Sunday\")\n",
    "elif user == 2:\n",
    "    print(\"Monday\")\n",
    "elif user == 3:\n",
    "    print(\"Tuesday\")\n",
    "elif user == 4:\n",
    "    print(\"=wednesday\")\n",
    "elif user == 5:\n",
    "    print(\"thrusday\")\n",
    "elif user == 6:\n",
    "    print(\"=friday\")\n",
    "elif user == 7:\n",
    "    print(\"saturday\")\n",
    "else:\n",
    "    print(\"error\")"
   ]
  },
  {
   "cell_type": "markdown",
   "id": "a6e93c19-853d-4aab-8134-415f77563e84",
   "metadata": {},
   "source": [
    "## 8.\tTax Bracket\n",
    "Write a program to categorize a person into tax brackets:\n",
    "\tIncome < $30,000: \"Low Tax\"\n",
    "\t$30,000 ≤ Income < $100,000: \"Medium Tax\"\n",
    "\tIncome ≥ $100,000: \"High Tax\"\n"
   ]
  },
  {
   "cell_type": "code",
   "execution_count": 92,
   "id": "ce2adb75-da77-4a93-9ef4-0c28c7dfaa99",
   "metadata": {},
   "outputs": [
    {
     "name": "stdin",
     "output_type": "stream",
     "text": [
      "enter your salary :  2000000\n"
     ]
    },
    {
     "name": "stdout",
     "output_type": "stream",
     "text": [
      "you have to pay 20% tax on salary that's your amount of tax 400000.0\n"
     ]
    }
   ],
   "source": [
    "salary = float(input(\"enter your salary : \"))\n",
    "if salary < 30000:\n",
    "    tax = salary*0.05\n",
    "    sal_tax = tax\n",
    "    print(f\"you have to pay 5% tax on salary that's your amount of tax {sal_tax}\")\n",
    "elif salary >= 30000 and salary <= 100000:\n",
    "    tax_2 = salary*0.10\n",
    "    sal_tax_2 = tax_2\n",
    "    print(f\"you have to pay 10% tax on salary that's your amount of tax {sal_tax_2}\")\n",
    "elif salary > 100000:\n",
    "    tax_3 = salary*0.20\n",
    "    \n",
    "    sal_tax_3 = tax_3\n",
    "    print(f\"you have to pay 20% tax on salary that's your amount of tax {sal_tax_3}\")\n",
    "else:\n",
    "    print(\"please be serious\")\n",
    "    "
   ]
  },
  {
   "cell_type": "markdown",
   "id": "fb4dd0cf-ee37-4d02-97a7-40c2fb1cd5e4",
   "metadata": {},
   "source": [
    "## 13.\tTiered Discounts\n",
    "Apply discounts based on the total price:\n",
    "\t$0–$50: No discount.\n",
    "\t$50–$100: 10% discount.\n",
    "\tOver $100: 20% discount."
   ]
  },
  {
   "cell_type": "code",
   "execution_count": 94,
   "id": "dff1f0ec-6d65-4194-9711-d59fd440bccc",
   "metadata": {},
   "outputs": [
    {
     "name": "stdin",
     "output_type": "stream",
     "text": [
      "Enter the total price of your purchase: $ 399\n"
     ]
    },
    {
     "name": "stdout",
     "output_type": "stream",
     "text": [
      "Congrats! You got a 20% discount.\n",
      "Your final price after applying the discount is: $319.2\n"
     ]
    }
   ],
   "source": [
    "total_price = eval(input(\"Enter the total price of your purchase: $\"))\n",
    "if total_price <= 50:\n",
    "    discount = 0\n",
    "    print(\"No discount applied.\")\n",
    "elif 50 < total_price <= 100:\n",
    "    discount = 10\n",
    "    print(\"Congrats! You got a 10% discount.\")\n",
    "else:\n",
    "    discount = 20\n",
    "    print(\"Congrats! You got a 20% discount.\")\n",
    "\n",
    "final_price = total_price - (total_price * discount / 100)\n",
    "print(f\"Your final price after applying the discount is: ${final_price}\")"
   ]
  },
  {
   "cell_type": "markdown",
   "id": "1560e523-e326-44f4-998d-680f982b7a29",
   "metadata": {},
   "source": [
    " Write a program that prompts the user to enter their weight (in kilograms) and height \n",
    "(in meters). The program should calculate the Body Mass Index (BMI) using the formula: \n",
    "BMI = weight / (height * height). The program should then classify the BMI into one of \n",
    "the following categories:"
   ]
  },
  {
   "cell_type": "code",
   "execution_count": 95,
   "id": "0739d7ff-099c-4cb3-9c8f-fa358a8b652a",
   "metadata": {},
   "outputs": [
    {
     "name": "stdin",
     "output_type": "stream",
     "text": [
      "Enter your weight in kilograms:  56\n",
      "Enter your height in meters:  5\n"
     ]
    },
    {
     "name": "stdout",
     "output_type": "stream",
     "text": [
      "Your BMI is: 2.24\n",
      "You are Underweight.\n"
     ]
    }
   ],
   "source": [
    "# Input weight (in kg) and height (in meters) from the user\n",
    "weight = float(input(\"Enter your weight in kilograms: \"))\n",
    "height = float(input(\"Enter your height in meters: \"))\n",
    "\n",
    "# Calculate BMI using the formula\n",
    "bmi = weight / (height ** 2)\n",
    "\n",
    "# Display BMI and classify the result\n",
    "print(f\"Your BMI is: {bmi:.2f}\")\n",
    "\n",
    "if bmi < 18.5:\n",
    "    print(\"You are Underweight.\")\n",
    "elif 18.5 <= bmi <= 24.9:\n",
    "    print(\"You have Normal weight.\")\n",
    "elif 25 <= bmi <= 29.9:\n",
    "    print(\"You are Overweight.\")\n",
    "else:\n",
    "    print(\"You have Obesity.\")\n"
   ]
  },
  {
   "cell_type": "markdown",
   "id": "1ab3787b-2b95-4fde-bb03-44b9eaf028e4",
   "metadata": {},
   "source": [
    "The marks obtained by a student in 3 different subjects are input by the user. Your \n",
    "program should calculate the average of subjects and display the grade. The student \n",
    "gets a grade as per the following rules: \n",
    "Average Grade \n",
    "90-100 A \n",
    "80-89 \n",
    "B \n",
    "70-79 \n",
    "C \n",
    "60-69 D \n",
    "0-59 F  "
   ]
  },
  {
   "cell_type": "code",
   "execution_count": 97,
   "id": "a1a9a46b-0db6-4827-a840-620f2bbd2111",
   "metadata": {},
   "outputs": [
    {
     "name": "stdin",
     "output_type": "stream",
     "text": [
      "Enter marks for Subject 1:  98\n",
      "Enter marks for Subject 2:  78\n",
      "Enter marks for Subject 3:  90\n"
     ]
    },
    {
     "name": "stdout",
     "output_type": "stream",
     "text": [
      "Your average marks are: 88.67\n",
      "Grade: B\n"
     ]
    }
   ],
   "source": [
    "# Input marks for 3 subjects from the user\n",
    "subject1 = float(input(\"Enter marks for Subject 1: \"))\n",
    "subject2 = float(input(\"Enter marks for Subject 2: \"))\n",
    "subject3 = float(input(\"Enter marks for Subject 3: \"))\n",
    "\n",
    "# Calculate the average of the three subjects\n",
    "average = (subject1 + subject2 + subject3) / 3\n",
    "\n",
    "# Display average marks and corresponding grade\n",
    "print(f\"Your average marks are: {average:.2f}\")\n",
    "\n",
    "if 90 <= average <= 100:\n",
    "    print(\"Grade: A\")\n",
    "elif 80 <= average <= 89:\n",
    "    print(\"Grade: B\")\n",
    "elif 70 <= average <= 79:\n",
    "    print(\"Grade: C\")\n",
    "elif 60 <= average <= 69:\n",
    "    print(\"Grade: D\")\n",
    "else:\n",
    "    print(\"Grade: F\")\n"
   ]
  },
  {
   "cell_type": "markdown",
   "id": "54ae924c-9b0c-409f-9bc9-a73e0dabc77b",
   "metadata": {},
   "source": [
    " The roots of the quadratic equation ax2 + bx + c = 0, a ≠ 0 are given by the following \n",
    "formula: \n",
    " \n",
    "In this formula, the term b2 - 4ac is called the discriminant. If b2 - 4ac = 0, then the \n",
    "equation has two equal roots. \n",
    "If b2 - 4ac > 0, the equation has two real roots. If b2 - 4ac < 0, the equation has two \n",
    "complex roots. \n",
    "Write a program that prompts the user to input the value of a (the coefficient of x2), b \n",
    "(the coefficient of x), and c (the constant term) and outputs the roots of the quadratic \n",
    "equation. "
   ]
  },
  {
   "cell_type": "code",
   "execution_count": 1,
   "id": "21d865a2-138b-414c-87df-5464607bace2",
   "metadata": {},
   "outputs": [
    {
     "name": "stderr",
     "output_type": "stream",
     "text": [
      "<>:4: SyntaxWarning: 'int' object is not callable; perhaps you missed a comma?\n",
      "<>:4: SyntaxWarning: 'int' object is not callable; perhaps you missed a comma?\n"
     ]
    },
    {
     "name": "stdin",
     "output_type": "stream",
     "text": [
      "enter the coefficient of 'x^2' bk\n"
     ]
    },
    {
     "ename": "NameError",
     "evalue": "name 'bk' is not defined",
     "output_type": "error",
     "traceback": [
      "\u001b[1;31m---------------------------------------------------------------------------\u001b[0m",
      "\u001b[1;31mNameError\u001b[0m                                 Traceback (most recent call last)",
      "Cell \u001b[1;32mIn[1], line 1\u001b[0m\n\u001b[1;32m----> 1\u001b[0m a \u001b[38;5;241m=\u001b[39m \u001b[38;5;28;43meval\u001b[39;49m\u001b[43m(\u001b[49m\u001b[38;5;28;43minput\u001b[39;49m\u001b[43m(\u001b[49m\u001b[38;5;124;43m\"\u001b[39;49m\u001b[38;5;124;43menter the coefficient of \u001b[39;49m\u001b[38;5;124;43m'\u001b[39;49m\u001b[38;5;124;43mx^2\u001b[39;49m\u001b[38;5;124;43m'\u001b[39;49m\u001b[38;5;124;43m\"\u001b[39;49m\u001b[43m)\u001b[49m\u001b[43m)\u001b[49m\n\u001b[0;32m      2\u001b[0m b \u001b[38;5;241m=\u001b[39m \u001b[38;5;28meval\u001b[39m(\u001b[38;5;28minput\u001b[39m(\u001b[38;5;124m\"\u001b[39m\u001b[38;5;124menter the coefficient of x\u001b[39m\u001b[38;5;124m\"\u001b[39m))\n\u001b[0;32m      3\u001b[0m c \u001b[38;5;241m=\u001b[39m \u001b[38;5;28meval\u001b[39m(\u001b[38;5;28minput\u001b[39m(\u001b[38;5;124m\"\u001b[39m\u001b[38;5;124menter the coefficient (c) \u001b[39m\u001b[38;5;124m\"\u001b[39m))\n",
      "File \u001b[1;32m<string>:1\u001b[0m\n",
      "\u001b[1;31mNameError\u001b[0m: name 'bk' is not defined"
     ]
    }
   ],
   "source": [
    "a = eval(input(\"enter the coefficient of 'x^2'\"))\n",
    "b = eval(input(\"enter the coefficient of x\"))\n",
    "c = eval(input(\"enter the coefficient (c) \"))\n",
    "formula = b**2 -4(a)(c)\n",
    "\n",
    "if formula > 0:\n",
    "    print(\"\")\n",
    "\n"
   ]
  },
  {
   "cell_type": "markdown",
   "id": "d6667409-2ab9-47dd-838d-4ab6962f7110",
   "metadata": {},
   "source": [
    "Write a program that prompts the user to enter three numbers and sorts them in \n",
    "ascending order. The program should print the sorted numbers."
   ]
  },
  {
   "cell_type": "code",
   "execution_count": 7,
   "id": "5414f958-a18e-490a-ac45-f36ec41d5e08",
   "metadata": {},
   "outputs": [
    {
     "name": "stdin",
     "output_type": "stream",
     "text": [
      "enter three number in integers not float :  4,3,5,6,7,8,1,2,3\n"
     ]
    },
    {
     "name": "stdout",
     "output_type": "stream",
     "text": [
      "here is your sorted values in asceding order [1, 2, 3, 3, 4, 5, 6, 7, 8]\n"
     ]
    }
   ],
   "source": [
    "user = eval(input(\"enter three number in integers not float : \"))\n",
    "sot = sorted(user)\n",
    "print(f\"here is your sorted values in asceding order {sot}\")"
   ]
  },
  {
   "cell_type": "markdown",
   "id": "871292e2-8ea4-4e45-8706-9f2bb497c2e5",
   "metadata": {},
   "source": [
    "Write a program that prompts the user to input a character and determine the \n",
    "character is vowel or consonant."
   ]
  },
  {
   "cell_type": "markdown",
   "id": "b26f3406-f0ab-4e3d-95ef-b9d06eeecd3e",
   "metadata": {},
   "source": [
    "Write a program that prompts the user to input number of calls and calculate the \n",
    "monthly telephone bills as per the following rule: \n",
    "Minimum Rs. 200 for up to 100 calls. \n",
    "Plus Rs. 0.60 per call for next 50 calls. \n",
    "Plus Rs. 0.50 per call for next 50 calls. \n",
    "Plus Rs. 0.40 per call for any call beyond 200 calls. "
   ]
  },
  {
   "cell_type": "code",
   "execution_count": 9,
   "id": "bcd2d3bf-7198-490e-ae35-19c045fcf341",
   "metadata": {},
   "outputs": [
    {
     "name": "stdin",
     "output_type": "stream",
     "text": [
      "enter how many calls you've done in this month :  90\n"
     ]
    },
    {
     "name": "stdout",
     "output_type": "stream",
     "text": [
      "your bill is :18000\n"
     ]
    }
   ],
   "source": [
    "calls = eval(input(\"enter how many calls you've done in this month : \"))\n",
    "if calls <= 100:\n",
    "    print(f\"your bill is :{calls * 200}\")\n",
    "elif calls > 100 and calls <= 150 :\n",
    "    print(f\"your bill is : {calls * 0.60}\")\n",
    "elif calls > 150 and calls <= 200:\n",
    "    print(f\"your bill is :{calls * 0.50}\")\n",
    "else:\n",
    "    print(f\"your bill is : {calls * 0.40}\")"
   ]
  },
  {
   "cell_type": "markdown",
   "id": "a0445377-8919-43a5-a0ae-90b493bff614",
   "metadata": {},
   "source": [
    "## LOOPS"
   ]
  },
  {
   "cell_type": "markdown",
   "id": "3f66aee3-ed8f-4ada-bc39-73c2d61dcb63",
   "metadata": {},
   "source": [
    "Write a Python program to print the numbers from 1 to 10 using a for loop. "
   ]
  },
  {
   "cell_type": "code",
   "execution_count": 2,
   "id": "148e2a37-5ef5-48ff-8bfe-3bb02fad9ffc",
   "metadata": {},
   "outputs": [
    {
     "name": "stdout",
     "output_type": "stream",
     "text": [
      "1\n",
      "2\n",
      "3\n",
      "4\n",
      "5\n",
      "6\n",
      "7\n",
      "8\n",
      "9\n",
      "10\n"
     ]
    }
   ],
   "source": [
    "for i in range(1, 11):\n",
    "    print(i)"
   ]
  },
  {
   "cell_type": "markdown",
   "id": "09fef1a2-cc09-4a41-85a4-336509636185",
   "metadata": {},
   "source": [
    " Write a Python program to print the numbers from 20 to 1 using a while loop."
   ]
  },
  {
   "cell_type": "code",
   "execution_count": 3,
   "id": "c6f3c674-d7fa-4832-a242-65860d74a8d5",
   "metadata": {},
   "outputs": [
    {
     "name": "stdout",
     "output_type": "stream",
     "text": [
      "20\n",
      "19\n",
      "18\n",
      "17\n",
      "16\n",
      "15\n",
      "14\n",
      "13\n",
      "12\n",
      "11\n",
      "10\n",
      "9\n",
      "8\n",
      "7\n",
      "6\n",
      "5\n",
      "4\n",
      "3\n",
      "2\n",
      "1\n"
     ]
    }
   ],
   "source": [
    "i = 20\n",
    "while(i>=1):\n",
    "    print(i)\n",
    "    i -= 1"
   ]
  },
  {
   "cell_type": "markdown",
   "id": "ea0c4c04-29bb-4429-8fa5-c4870e40aab5",
   "metadata": {},
   "source": [
    "Write a program to print even numbers from 1 to 10."
   ]
  },
  {
   "cell_type": "code",
   "execution_count": 15,
   "id": "a8a1181f-b357-4a0b-b2c2-a63d5bc5033e",
   "metadata": {},
   "outputs": [
    {
     "name": "stdout",
     "output_type": "stream",
     "text": [
      "2\n",
      "4\n",
      "6\n",
      "8\n",
      "10\n"
     ]
    }
   ],
   "source": [
    "for i in range(2, 12, 2):\n",
    "    print(i)"
   ]
  },
  {
   "cell_type": "markdown",
   "id": "5bda99b4-318f-45f4-8675-2a2d604a0786",
   "metadata": {},
   "source": [
    "Write a program that prompts the user to enter a number n and prints all the \n",
    "numbers from 1 to n.  "
   ]
  },
  {
   "cell_type": "code",
   "execution_count": 19,
   "id": "7e180a98-c2ca-4cf0-8df0-2cb1a8345b71",
   "metadata": {},
   "outputs": [
    {
     "name": "stdin",
     "output_type": "stream",
     "text": [
      "enter the number to n :  8\n"
     ]
    },
    {
     "name": "stdout",
     "output_type": "stream",
     "text": [
      "1\n",
      "2\n",
      "3\n",
      "4\n",
      "5\n",
      "6\n",
      "7\n"
     ]
    }
   ],
   "source": [
    "n = eval(input(\"enter the number to n : \"))\n",
    "for i in range(1, n):\n",
    "    print(i)\n",
    "    "
   ]
  },
  {
   "cell_type": "markdown",
   "id": "d2e468e0-4d99-497a-93dd-edfba051dde0",
   "metadata": {},
   "source": [
    "Write a program that prompts the user to enter a number n, and then prints all the \n",
    "odd numbers between 1 and n.   "
   ]
  },
  {
   "cell_type": "code",
   "execution_count": 23,
   "id": "7ecda0de-ab13-4dfb-a36c-d8e52cc08f30",
   "metadata": {},
   "outputs": [
    {
     "name": "stdin",
     "output_type": "stream",
     "text": [
      "enter the number to n :  20\n"
     ]
    },
    {
     "name": "stdout",
     "output_type": "stream",
     "text": [
      "1\n",
      "3\n",
      "5\n",
      "7\n",
      "9\n",
      "11\n",
      "13\n",
      "15\n",
      "17\n",
      "19\n"
     ]
    }
   ],
   "source": [
    "n = eval(input(\"enter the number to n : \"))\n",
    "for i in range(1, n, 2):\n",
    "    print(i)"
   ]
  },
  {
   "cell_type": "markdown",
   "id": "617b0586-6225-47fc-b6f3-ee15171d3829",
   "metadata": {},
   "source": [
    "Write a program that prints 'Happy Birthday!' five times on screen"
   ]
  },
  {
   "cell_type": "code",
   "execution_count": 26,
   "id": "6d06c621-4638-45a2-a4b1-f22f6b869d6b",
   "metadata": {},
   "outputs": [
    {
     "name": "stdout",
     "output_type": "stream",
     "text": [
      "Happy Birthday\n",
      "Happy Birthday\n",
      "Happy Birthday\n",
      "Happy Birthday\n",
      "Happy Birthday\n"
     ]
    }
   ],
   "source": [
    "for i in range(5):\n",
    "    print(\"Happy Birthday\")"
   ]
  },
  {
   "cell_type": "markdown",
   "id": "a3099872-d01b-4089-bd4a-85e215ffe979",
   "metadata": {},
   "source": [
    "Write a program that takes a number n as input from the user and generates the first \n",
    "n terms of the series formed by squaring the natural numbers. "
   ]
  },
  {
   "cell_type": "code",
   "execution_count": 30,
   "id": "b99d3c3a-9b6f-4dd3-ad23-0c3820ea5285",
   "metadata": {},
   "outputs": [
    {
     "name": "stdin",
     "output_type": "stream",
     "text": [
      "Enter how many terms of the series you want:  10\n"
     ]
    },
    {
     "name": "stdout",
     "output_type": "stream",
     "text": [
      "1\n",
      "4\n",
      "9\n",
      "16\n",
      "25\n",
      "36\n",
      "49\n",
      "64\n",
      "81\n",
      "100\n"
     ]
    }
   ],
   "source": [
    "# Take input for the number of terms\n",
    "n = int(input(\"Enter how many terms of the series you want: \"))\n",
    "\n",
    "# Generate the first n terms of the series\n",
    "for i in range(1, n + 1):  # Start from 1 and go up to n (inclusive)\n",
    "    print(i**2)\n"
   ]
  },
  {
   "cell_type": "markdown",
   "id": "dcd4be82-4968-40e5-b9e5-2a710130c8e3",
   "metadata": {},
   "source": [
    " Write a program that prompts the user to input a number and prints its multiplication \n",
    "table.  "
   ]
  },
  {
   "cell_type": "code",
   "execution_count": 33,
   "id": "33b3c896-395e-437e-89e3-873e2e79f52d",
   "metadata": {},
   "outputs": [
    {
     "name": "stdin",
     "output_type": "stream",
     "text": [
      "enter a number on you perform multiplication :  8\n"
     ]
    },
    {
     "name": "stdout",
     "output_type": "stream",
     "text": [
      "8\n",
      "16\n",
      "24\n",
      "32\n",
      "40\n",
      "48\n",
      "56\n",
      "64\n",
      "72\n",
      "80\n"
     ]
    }
   ],
   "source": [
    "user = eval(input(\"enter a number on you perform multiplication : \"))\n",
    "for i in range(1,11):\n",
    "    print(user*i)"
   ]
  },
  {
   "cell_type": "markdown",
   "id": "46bfae82-3919-465c-a463-dc522efa2d4e",
   "metadata": {},
   "source": [
    "Write a Python program to print the first 8 terms of an arithmetic progression starting \n",
    "with 3 and having a common difference of 4. \n",
    "The program should output the following sequence: \n",
    "3 7 11 15 19 23 27 31 "
   ]
  },
  {
   "cell_type": "code",
   "execution_count": 43,
   "id": "99d9ab28-47d3-439e-a9ba-e415b5da0459",
   "metadata": {},
   "outputs": [
    {
     "name": "stdout",
     "output_type": "stream",
     "text": [
      "7\n",
      "8\n",
      "9\n",
      "10\n"
     ]
    }
   ],
   "source": [
    "for i in range(8):\n",
    "    for j in range(3, i, 4):\n",
    "        print(i+j)"
   ]
  },
  {
   "cell_type": "code",
   "execution_count": 50,
   "id": "742613f4-d9a5-46b7-a140-5dadeec573ac",
   "metadata": {},
   "outputs": [
    {
     "name": "stdout",
     "output_type": "stream",
     "text": [
      "36\n"
     ]
    }
   ],
   "source": [
    "for a in range(10):    \n",
    "    if a==6:\n",
    "        print(a**2)\n",
    "        #continue "
   ]
  },
  {
   "cell_type": "code",
   "execution_count": 51,
   "id": "4f155377-83df-490d-b4ec-da162160e6d6",
   "metadata": {},
   "outputs": [],
   "source": [
    "items = [{\"laptop\":50000},{\"mobile\":30000},{'printer':20000},\n",
    "           {'mouse':1000},{'ipad':40000},{'keyboard':10000},\n",
    "           {'ac':150000}]\n"
   ]
  },
  {
   "cell_type": "code",
   "execution_count": 54,
   "id": "60136cae-ff9d-4547-a838-ad4871d5fb36",
   "metadata": {},
   "outputs": [
    {
     "name": "stdin",
     "output_type": "stream",
     "text": [
      "What do you want to buy?  mobile\n"
     ]
    },
    {
     "name": "stdout",
     "output_type": "stream",
     "text": [
      "Price is 30000\n",
      "mobile Not Available\n"
     ]
    }
   ],
   "source": [
    "prod = input(\"What do you want to buy? \")\n",
    "for i in items:  # {\"laptop\":50000}\n",
    "    if prod in i: \n",
    "        print(f\"Price is {i[prod]}\")\n",
    "    \n",
    "print(f\"{prod} Not Available\")"
   ]
  },
  {
   "cell_type": "markdown",
   "id": "435cc06c-7f71-486f-bc2e-919cd4a5f041",
   "metadata": {},
   "source": [
    "Write a program that asks the user for a positive integer value. The program should \n",
    "calculate the sum of all the integers from 1 up to the number entered. For example, if \n",
    "the user enters 20, the loop will find the sum of 1, 2, 3, 4, ... 20.  "
   ]
  },
  {
   "cell_type": "code",
   "execution_count": 16,
   "id": "7034f428-91b0-4a58-b4e3-b6f1856da98b",
   "metadata": {},
   "outputs": [
    {
     "name": "stdin",
     "output_type": "stream",
     "text": [
      "Enter a positive integer:  50\n"
     ]
    },
    {
     "name": "stdout",
     "output_type": "stream",
     "text": [
      "The sum of all integers from 1 to 50 is 1275.\n"
     ]
    }
   ],
   "source": [
    "n = int(input(\"Enter a positive integer: \"))\n",
    "if n > 0:\n",
    "    total_sum = 0\n",
    "    for i in range(1, n + 1):\n",
    "        total_sum += i\n",
    "    print(f\"The sum of all integers from 1 to {n} is {total_sum}.\")\n",
    "else:\n",
    "    print(\"Please enter a positive integer.\")\n",
    "\n"
   ]
  },
  {
   "cell_type": "markdown",
   "id": "bee82cc3-8bcf-48dc-8cd5-a1182a1b0a70",
   "metadata": {},
   "source": [
    " write a program that takes a positive integer N as input and calculates the sum of \n",
    "the reciprocals of all numbers from 1 up to N. The program should display the final sum."
   ]
  },
  {
   "cell_type": "code",
   "execution_count": 33,
   "id": "9276745e-13ff-494b-9a48-97fa8e0faba5",
   "metadata": {},
   "outputs": [
    {
     "name": "stdin",
     "output_type": "stream",
     "text": [
      "enter the number till you want a sum :  60\n"
     ]
    },
    {
     "name": "stdout",
     "output_type": "stream",
     "text": [
      "here is your sum 4.679870412951736\n"
     ]
    }
   ],
   "source": [
    "user = int(input('enter the number till you want a sum : '))\n",
    "if user > 0:\n",
    "    total_sum = 0.0\n",
    "    \n",
    "    for i in range(1, user + 1):\n",
    "        total_sum += 1 / i\n",
    "    print(f\"here is your sum {total_sum}\")\n",
    "else:\n",
    "    print(\"Please enter a positive integer.\")\n",
    "\n",
    "\n",
    "                  "
   ]
  },
  {
   "cell_type": "markdown",
   "id": "543e5a71-0809-47bd-b9f7-71456de40510",
   "metadata": {},
   "source": [
    "Write a program that prompts the user to enter a number and repeats this process 5 \n",
    "times. The program should accumulate the numbers entered and then display the final \n",
    "running total. \n",
    "Sample Output: \n",
    "Enter a number: 10 \n",
    "Enter a number: 15 \n",
    "Enter a number: 35 \n",
    "Enter a number: 40 \n",
    "Enter a number: 50 \n",
    "The final running total is: 150"
   ]
  },
  {
   "cell_type": "code",
   "execution_count": 44,
   "id": "e868f44e-6c51-4936-ab48-2192ac35c134",
   "metadata": {},
   "outputs": [
    {
     "name": "stdin",
     "output_type": "stream",
     "text": [
      "enter a number in which you want to apply :  50\n",
      "enter a number in which you want to apply :  50\n",
      "enter a number in which you want to apply :  50\n",
      "enter a number in which you want to apply :  50\n",
      "enter a number in which you want to apply :  50\n",
      "enter a number in which you want to apply :  50\n"
     ]
    },
    {
     "name": "stdout",
     "output_type": "stream",
     "text": [
      "300\n"
     ]
    }
   ],
   "source": [
    "total = 0\n",
    "for i in range(6):\n",
    "    user = eval(input('enter a number in which you want to apply : '))\n",
    "    total += user\n",
    "print(total)"
   ]
  },
  {
   "cell_type": "markdown",
   "id": "1d31356d-4799-4fc3-9d4e-066bd4b7ccfd",
   "metadata": {},
   "source": [
    ". Write a program that prompts the user to enter a positive integer and calculates its \n",
    "factorial. The factorial of a positive integer 'n' is denoted as 'n!' and is calculated by \n",
    "multiplying all the integers from 1 to 'n' together. For example, the factorial of 5 \n",
    "(denoted as 5!) is calculated as 1 x 2 x 3 x 4 x 5. \n",
    "The program should display the factorial value if the input is a positive number, or \n",
    "display a message stating that the factorial does not exist for negative numbers. \n",
    "Additionally, for an input of zero, the program should output that the factorial of 0 is 1."
   ]
  },
  {
   "cell_type": "code",
   "execution_count": 47,
   "id": "82b91214-ff14-4547-8f62-bd18af60bfb9",
   "metadata": {},
   "outputs": [
    {
     "name": "stdin",
     "output_type": "stream",
     "text": [
      "Enter a positive integer:  12\n"
     ]
    },
    {
     "name": "stdout",
     "output_type": "stream",
     "text": [
      "The factorial of 12 is: 479001600\n"
     ]
    }
   ],
   "source": [
    "number = int(input(\"Enter a positive integer: \"))\n",
    "\n",
    "if number < 0:\n",
    "    print(\"The factorial does not exist for negative numbers.\")\n",
    "elif number == 0:\n",
    "    print(\"The factorial of 0 is 1.\")\n",
    "else:\n",
    "    factorial = 1\n",
    "    \n",
    "    for i in range(1, number + 1):\n",
    "        factorial *= i\n",
    "\n",
    "    print(f\"The factorial of {number} is: {factorial}\")\n"
   ]
  },
  {
   "cell_type": "markdown",
   "id": "23c236d7-2c43-4e7e-9d77-c52845a19eb1",
   "metadata": {},
   "source": [
    "# STRINGS"
   ]
  },
  {
   "cell_type": "markdown",
   "id": "c7add1cf-2060-4daf-8716-48a75e07d2dd",
   "metadata": {},
   "source": [
    "Write a program that accepts a string from user. Your program should count and display number of \n",
    "vowels in that string. "
   ]
  },
  {
   "cell_type": "code",
   "execution_count": 51,
   "id": "ab92542a-244a-49ae-a164-0d530973a125",
   "metadata": {},
   "outputs": [
    {
     "name": "stdin",
     "output_type": "stream",
     "text": [
      "enter the vowels :  aieou\n"
     ]
    },
    {
     "name": "stdout",
     "output_type": "stream",
     "text": [
      "5\n"
     ]
    }
   ],
   "source": [
    "vov = input('enter the vowels : ')\n",
    "count = len(vov)\n",
    "print(count)"
   ]
  },
  {
   "cell_type": "code",
   "execution_count": 52,
   "id": "a67100e6-71f6-4e05-82d9-556bbb972ce0",
   "metadata": {},
   "outputs": [
    {
     "name": "stdin",
     "output_type": "stream",
     "text": [
      "Enter a string:  aeeirj\n"
     ]
    },
    {
     "name": "stdout",
     "output_type": "stream",
     "text": [
      "The number of vowels in the string is: 4\n"
     ]
    }
   ],
   "source": [
    "# Prompt the user to enter a string\n",
    "string = input(\"Enter a string: \")\n",
    "\n",
    "# Initialize a variable to count vowels\n",
    "vowel_count = 0\n",
    "\n",
    "# Define the vowels\n",
    "vowels = \"aeiouAEIOU\"\n",
    "\n",
    "# Loop through each character in the string\n",
    "for char in string:\n",
    "    # If the character is a vowel, increase the count\n",
    "    if char in vowels:\n",
    "        vowel_count += 1\n",
    "\n",
    "# Display the number of vowels\n",
    "print(f\"The number of vowels in the string is: {vowel_count}\")"
   ]
  },
  {
   "cell_type": "code",
   "execution_count": 55,
   "id": "fc114afc-e7bc-46f8-893b-0e5d8b577805",
   "metadata": {},
   "outputs": [
    {
     "name": "stdin",
     "output_type": "stream",
     "text": [
      "enter the string i'll find how much vovel will be in your strings :  aaiioozxcjkluueeknCLJlkCJ\n"
     ]
    },
    {
     "name": "stdout",
     "output_type": "stream",
     "text": [
      "The number of vowels in the string is: aieou, 10\n"
     ]
    }
   ],
   "source": [
    "user = input(\"enter the string i'll find how much vovel will be in your strings : \")\n",
    "total = 0\n",
    "vowels = \"aieou\"\n",
    "\n",
    "for i in user:\n",
    "    if i in vowels:\n",
    "        total += 1\n",
    "print(f\"The number of vowels in the string is: {vowels}, {total}\")"
   ]
  },
  {
   "cell_type": "markdown",
   "id": "87dfef2b-6787-4946-8f9d-ad165505a434",
   "metadata": {},
   "source": [
    " Write a program that reads a string from keyboard and display: \n",
    "* The number of uppercase letters in the string \n",
    "* The number of lowercase letters in the string \n",
    "* The number of digits in the string \n",
    "* The number of whitespace characters in the string"
   ]
  },
  {
   "cell_type": "code",
   "execution_count": 77,
   "id": "cead3f5a-cd8a-424c-80dd-b9fc2e973eec",
   "metadata": {
    "scrolled": true
   },
   "outputs": [
    {
     "name": "stdin",
     "output_type": "stream",
     "text": [
      "Enter the string:  Hello World 213\n"
     ]
    },
    {
     "name": "stdout",
     "output_type": "stream",
     "text": [
      "Number of uppercase letters: 2\n",
      "Number of lowercase letters: 8\n",
      "Number of digits: 3\n",
      "Number of whitespace characters: 2\n"
     ]
    }
   ],
   "source": [
    "# Taking input from the user\n",
    "string = input(\"Enter the string: \")\n",
    "\n",
    "# Initialize counters for uppercase, lowercase, digits, and whitespace characters\n",
    "uppercase_count = 0\n",
    "lowercase_count = 0\n",
    "digit_count = 0\n",
    "whitespace_count = 0\n",
    "\n",
    "for char in string:\n",
    "    if char.isupper():\n",
    "        uppercase_count += 1\n",
    "    elif char.islower():\n",
    "        lowercase_count += 1\n",
    "    elif char.isdigit():\n",
    "        digit_count += 1\n",
    "    elif char.isspace():\n",
    "        whitespace_count += 1\n",
    "\n",
    "# Displaying the results\n",
    "print(\"Number of uppercase letters:\", uppercase_count)\n",
    "print(\"Number of lowercase letters:\", lowercase_count)\n",
    "print(\"Number of digits:\", digit_count)\n",
    "print(\"Number of whitespace characters:\", whitespace_count)\n",
    "\n",
    "   "
   ]
  },
  {
   "cell_type": "markdown",
   "id": "6b4fb2c4-bc6e-4ddc-be85-4e4ce6bbb7b2",
   "metadata": {},
   "source": [
    ". Write a Python program that accepts a string from user. Your program should create and display a \n",
    "new string where the first and last characters have been exchanged"
   ]
  },
  {
   "cell_type": "code",
   "execution_count": 78,
   "id": "95479aae-2294-4a7c-b5c7-8e0bcac8dedf",
   "metadata": {},
   "outputs": [
    {
     "name": "stdin",
     "output_type": "stream",
     "text": [
      "Enter the string:  waterfall\n"
     ]
    },
    {
     "name": "stdout",
     "output_type": "stream",
     "text": [
      "New string: laterfalw\n"
     ]
    }
   ],
   "source": [
    "string = input(\"Enter the string: \")\n",
    "\n",
    "if len(string) > 1:\n",
    "    new_string = string[-1] + string[1:-1] + string[0]\n",
    "else:\n",
    "    new_string = string\n",
    "\n",
    "print(\"New string:\", new_string)\n",
    "\n"
   ]
  },
  {
   "cell_type": "markdown",
   "id": "b283e25a-d934-4eea-beac-524838839d13",
   "metadata": {},
   "source": [
    "Write a Python program that accepts a string from user. Your program should create a new string in \n",
    "reverse of first string and display it."
   ]
  },
  {
   "cell_type": "code",
   "execution_count": 83,
   "id": "331dcf96-dc7a-4b5f-8030-cf03150a81db",
   "metadata": {},
   "outputs": [
    {
     "name": "stdin",
     "output_type": "stream",
     "text": [
      "enter the string what you want to reverse :  probook\n"
     ]
    },
    {
     "name": "stdout",
     "output_type": "stream",
     "text": [
      "kooborp\n"
     ]
    }
   ],
   "source": [
    "string = input('enter the string what you want to reverse : ')\n",
    "reverse = string[::-1]\n",
    "print(reverse)"
   ]
  },
  {
   "cell_type": "markdown",
   "id": "ac97d2b9-0c91-49f5-82a7-b2298e697435",
   "metadata": {},
   "source": [
    ". Write a Python program that accepts a string from user. Your program should create a new string by \n",
    "shifting one position to left."
   ]
  },
  {
   "cell_type": "code",
   "execution_count": 93,
   "id": "4df199aa-c273-4f6b-8801-b0dd3a150693",
   "metadata": {},
   "outputs": [
    {
     "name": "stdin",
     "output_type": "stream",
     "text": [
      "Enter the string:  assignment\n"
     ]
    },
    {
     "name": "stdout",
     "output_type": "stream",
     "text": [
      "New string: ssignmenta\n"
     ]
    }
   ],
   "source": [
    "string = input(\"Enter the string: \")\n",
    "\n",
    "if len(string) > 1:\n",
    "    new_string = string[1:] + string[0]\n",
    "else:\n",
    "    new_string = string\n",
    "\n",
    "print(\"New string:\", new_string)\n"
   ]
  },
  {
   "cell_type": "markdown",
   "id": "cc4512af-f11f-4820-88c1-afbd78f8c198",
   "metadata": {},
   "source": [
    "8. Write a program that display following output: \n",
    "SHIFT \n",
    "HIFTS \n",
    "IFTSH \n",
    "FTSHI \n",
    "TSHIF \n",
    "SHIFT"
   ]
  },
  {
   "cell_type": "code",
   "execution_count": 101,
   "id": "71f37e33-cba0-4427-a8dc-9933cd70a34b",
   "metadata": {},
   "outputs": [
    {
     "name": "stdout",
     "output_type": "stream",
     "text": [
      "SHIFT\n",
      "HIFTS\n",
      "IFTSH\n",
      "FTSHI\n",
      "TSHIF\n"
     ]
    }
   ],
   "source": [
    "string = \"SHIFT\"\n",
    "\n",
    "# Loop to rotate the string and display each result\n",
    "for i in range(len(string)):\n",
    "    rotated_string = string[i:]\n",
    "    rotation_2 = string[:i]\n",
    "    print(rotated_string + rotation_2)\n"
   ]
  },
  {
   "cell_type": "markdown",
   "id": "39b51880-4a2f-46d8-b7fa-91bf60c5328e",
   "metadata": {},
   "source": [
    ". Write a program in python that accepts a string to setup a passwords. Your entered password must \n",
    "meet the following requirements: \n",
    "The password must be at least eight characters long. \n",
    "It must contain at least one uppercase letter. \n",
    "It must contain at least one lowercase letter. \n",
    "It must contain at least one numeric digit. \n",
    "Your program should should perform this validation"
   ]
  },
  {
   "cell_type": "code",
   "execution_count": 110,
   "id": "931661eb-e1eb-4a7c-a4cb-baff0f7f3d58",
   "metadata": {},
   "outputs": [
    {
     "name": "stdin",
     "output_type": "stream",
     "text": [
      "Enter a password:  Alibaba8539\n"
     ]
    },
    {
     "name": "stdout",
     "output_type": "stream",
     "text": [
      "Password is valid.\n"
     ]
    }
   ],
   "source": [
    "password = input(\"Enter a password: \")\n",
    "if len(password) < 8:\n",
    "    print(\"Password must be at least 8 characters long.\")\n",
    "elif not any(char >= 'A' and char <= 'Z' for char in password):\n",
    "    print(\"Password must contain at least one uppercase letter.\")\n",
    "elif not any(char >= 'a' and char <= 'z' for char in password):\n",
    "    print(\"Password must contain at least one lowercase letter.\")\n",
    "elif not any(char >= '0' and char <= '9' for char in password):\n",
    "    print(\"Password must contain at least one numeric digit.\")\n",
    "else:\n",
    "    print(\"Password is valid.\")\n",
    "\n",
    "        \n",
    "\n",
    "\n",
    "\n",
    "\n",
    "    "
   ]
  },
  {
   "cell_type": "markdown",
   "id": "ae9c9b84-e3be-48c7-9d88-323c12385fd1",
   "metadata": {},
   "source": []
  }
 ],
 "metadata": {
  "kernelspec": {
   "display_name": "Python 3 (ipykernel)",
   "language": "python",
   "name": "python3"
  },
  "language_info": {
   "codemirror_mode": {
    "name": "ipython",
    "version": 3
   },
   "file_extension": ".py",
   "mimetype": "text/x-python",
   "name": "python",
   "nbconvert_exporter": "python",
   "pygments_lexer": "ipython3",
   "version": "3.13.1"
  }
 },
 "nbformat": 4,
 "nbformat_minor": 5
}
