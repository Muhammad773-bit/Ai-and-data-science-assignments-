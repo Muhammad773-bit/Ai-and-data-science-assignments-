{
 "cells": [
  {
   "cell_type": "markdown",
   "id": "3871f316-dddf-49da-989a-b8bd34a5e3b3",
   "metadata": {},
   "source": [
    "# NAME = MUHAMMAD ALI MURAD\n",
    "# ASSIGNMENT = ASSIGNMENT 1, 2\n",
    "# ID = 334866"
   ]
  },
  {
   "cell_type": "markdown",
   "id": "0a9d83c2",
   "metadata": {},
   "source": [
    "# ASSIGNMENT \n",
    "    # Area of a Rectangle: \n",
    "    # Write a Python program to calculate the area of a rectangle. Use the formula: \n",
    "    # 𝐴𝒓𝒆𝒂 = 𝒍𝒆𝒏𝒈𝒕𝒉 × 𝒘𝒊𝒅𝒕𝒉\n",
    "    # Take length and width as inputs from the user."
   ]
  },
  {
   "cell_type": "code",
   "execution_count": 1,
   "id": "d6d90e42",
   "metadata": {},
   "outputs": [
    {
     "name": "stdout",
     "output_type": "stream",
     "text": [
      "Enter the length of the rectangle: 12\n",
      "Enter the width of the rectangle: 45\n",
      "540.0\n"
     ]
    }
   ],
   "source": [
    "length = float(input(\"Enter the length of the rectangle: \"))\n",
    "width = float(input(\"Enter the width of the rectangle: \"))\n",
    "area = length * width\n",
    "print(area)\n"
   ]
  },
  {
   "cell_type": "markdown",
   "id": "708ddf2c",
   "metadata": {},
   "source": [
    "###  Circumference of a Circle: \n",
    "Write a Python program to calculate the circumference of a circle. Use the formula: \n",
    "𝑪𝒊𝒓𝒄𝒖𝒎𝒇𝒆𝒓𝒆𝒏𝒄𝒆 = 𝟐𝝅𝒓\n",
    "Take the radius r as input from the user."
   ]
  },
  {
   "cell_type": "code",
   "execution_count": 4,
   "id": "dd6cede3",
   "metadata": {},
   "outputs": [
    {
     "name": "stdout",
     "output_type": "stream",
     "text": [
      "enter the radius of circle12\n",
      "75.39815999999999\n"
     ]
    }
   ],
   "source": [
    "radius = float(input(\"enter the radius of circle\"))\n",
    "circumference = (2*3.14159)*radius\n",
    "print(circumference)"
   ]
  },
  {
   "cell_type": "markdown",
   "id": "014616b2",
   "metadata": {},
   "source": [
    "### Simple Interest: \n",
    "Write a Python program to calculate the simple interest. Use the formula: \n",
    "𝑺𝒊𝒎𝒑𝒍𝒆 𝑰𝒏𝒕𝒆𝒓𝒆𝒔𝒕 = 𝑷𝒓𝒊𝒏𝒄𝒊𝒑𝒂𝒍 × 𝑹𝒂𝒕𝒆 × 𝑻𝒊𝒎𝒆 \n",
    "Take Principal, Rate, and Time as inputs from the user. \n"
   ]
  },
  {
   "cell_type": "code",
   "execution_count": 1,
   "id": "66c1d850",
   "metadata": {},
   "outputs": [
    {
     "name": "stdout",
     "output_type": "stream",
     "text": [
      "mention the principal 1000\n",
      "mention the rate 8\n",
      "mention the time 12\n",
      "96000\n"
     ]
    }
   ],
   "source": [
    "principal = eval(input(\"mention the principal \"))\n",
    "rate = eval(input(\"mention the rate \"))\n",
    "time = eval(input(\"mention the time \"))\n",
    "simple_interest = p𝒓𝒊𝒏𝒄𝒊𝒑𝒂𝒍 * r𝒂𝒕𝒆 * t𝒊𝒎𝒆 \n",
    "print(simple_interest)\n"
   ]
  },
  {
   "cell_type": "markdown",
   "id": "3215bc2d",
   "metadata": {},
   "source": [
    "### speed of an Object: \n",
    "Write a Python program to calculate the speed of an object. Use the formula: \n",
    "𝑆𝒑𝒆𝒆𝒅 = 𝑫𝒊𝒔𝒕𝒂𝒏𝒄𝒆 / 𝑻𝒊𝒎𝒆\n",
    "Take Distance and Time as inputs from the user."
   ]
  },
  {
   "cell_type": "code",
   "execution_count": 4,
   "id": "1239514c",
   "metadata": {},
   "outputs": [
    {
     "name": "stdout",
     "output_type": "stream",
     "text": [
      "enter your distance you covered km: 10000\n",
      "enter the time period : 20\n",
      "500.0 m/s\n"
     ]
    }
   ],
   "source": [
    "distance = eval(input(\"enter your distance you covered km: \"))\n",
    "time = eval(input(\"enter the time period : \"))\n",
    "𝑆𝒑𝒆𝒆𝒅 = d𝒊𝒔𝒕𝒂𝒏𝒄𝒆 / t𝒊𝒎𝒆\n",
    "print(Speed,\"m/s\")\n"
   ]
  },
  {
   "cell_type": "markdown",
   "id": "b8d523dc",
   "metadata": {},
   "source": [
    "###  BMI Calculator: \n",
    "Write a Python program to calculate the Body Mass Index (BMI). Use the formula: \n",
    "BMI = ௐ௘௜௚௛௧(௄௚)\n",
    "(ு௘௜௚௛௧).మ\n",
    " Take Weight (in kilograms) and Height (in meters) as inputs from the user."
   ]
  },
  {
   "cell_type": "code",
   "execution_count": 5,
   "id": "ef7812b7",
   "metadata": {},
   "outputs": [
    {
     "name": "stdout",
     "output_type": "stream",
     "text": [
      "enter your weight in kg: 50\n",
      "enter your height in meters: 5.2\n",
      "9.615384615384615\n"
     ]
    }
   ],
   "source": [
    "weight = eval(input(\"enter your weight in kg: \"))\n",
    "height = eval(input(\"enter your height in meters: \"))\n",
    "BMI = weight/height\n",
    "print(BMI)"
   ]
  },
  {
   "cell_type": "markdown",
   "id": "910db2dc",
   "metadata": {},
   "source": [
    "### Force Using Newton's Second Law: \n",
    "Write a Python program to calculate the force on an object. Use the formula: \n",
    "Take m (mass in kilograms) and a (acceleration in meters/second²) as inputs from the \n",
    "user"
   ]
  },
  {
   "cell_type": "code",
   "execution_count": 10,
   "id": "9a76b81f",
   "metadata": {},
   "outputs": [
    {
     "name": "stdout",
     "output_type": "stream",
     "text": [
      "enter the mass in kg : 80\n",
      "enter the acceleration in meters/second² : 50\n",
      "4000 N\n"
     ]
    }
   ],
   "source": [
    "mass = eval(input(\"enter the mass in kg : \"))\n",
    "acc  = eval(input(\"enter the acceleration in meters/second² : \"))\n",
    "\n",
    "force = mass*acc\n",
    "print(force,\"N\")"
   ]
  },
  {
   "cell_type": "markdown",
   "id": "6eb820b2",
   "metadata": {},
   "source": [
    "###  Compound Interest: \n",
    "Write a Python program to calculate compound interest. Use the formula: \n",
    "𝒓\n",
    "𝒏\n",
    "n-t\n",
    "Where: \n",
    "A= total amount \n",
    "P = principal amount \n",
    "r = annual interest rate (decimal) \n",
    "n = number of times interest is compounded per year \n",
    "t = time in years \n",
    "Take P, r, n, and t as inputs from the user"
   ]
  },
  {
   "cell_type": "code",
   "execution_count": 12,
   "id": "3ee6c0a5",
   "metadata": {},
   "outputs": [
    {
     "name": "stdout",
     "output_type": "stream",
     "text": [
      "enter the principal amount: 3000\n",
      "enter the annual interest rate: 3.5\n",
      "enter the number of times interest is compounded per year : 9\n",
      "etner the time : 7\n",
      "57686.75246122173\n"
     ]
    }
   ],
   "source": [
    "prin = eval(input(\"enter the principal amount: \"))\n",
    "rate = eval(input(\"enter the annual interest rate: \"))\n",
    "num = eval(input(\"enter the number of times interest is compounded per year : \"))\n",
    "time = eval(input(\"etner the time : \"))\n",
    "total_amount = prin*(1+rate/num)**num-time\n",
    "print(total_amount)"
   ]
  },
  {
   "cell_type": "markdown",
   "id": "66f29992",
   "metadata": {},
   "source": [
    "### Perimeter of a Triangle: \n",
    "    Write a Python program to calculate the perimeter of a triangle. Use the formula: \n",
    "    𝑷𝒆𝒓𝒊𝒎𝒆𝒕𝒆𝒓 = 𝒂 + 𝒃 + 𝒄\n",
    "    Take a, b, and c (lengths of the three sides) as inputs from the user."
   ]
  },
  {
   "cell_type": "code",
   "execution_count": 15,
   "id": "178dac91",
   "metadata": {},
   "outputs": [
    {
     "name": "stdout",
     "output_type": "stream",
     "text": [
      "enter the side1 : 30\n",
      "enter the side2 : 29.333\n",
      "enter the side3 : 28\n",
      "87.333\n"
     ]
    }
   ],
   "source": [
    "a  = eval(input('enter the side1 : '))\n",
    "b  = eval(input('enter the side2 : '))\n",
    "c  = eval(input('enter the side3 : '))\n",
    "result = a + b +c\n",
    "print(result)"
   ]
  },
  {
   "cell_type": "markdown",
   "id": "c9645da1",
   "metadata": {},
   "source": [
    "### ) Volume of a Sphere: \n",
    "Write a Python program to calculate the volume of a sphere. Use the formula: \n",
    "ଷ\n",
    "Take r (radius) as input from the user."
   ]
  },
  {
   "cell_type": "code",
   "execution_count": 17,
   "id": "1642c5e1",
   "metadata": {},
   "outputs": [
    {
     "name": "stdout",
     "output_type": "stream",
     "text": [
      "enter the radius : 45\n",
      "381510.0\n"
     ]
    }
   ],
   "source": [
    "radi = eval(input(\"enter the radius : \"))\n",
    "vol = 4/3*3.14*radi**3\n",
    "print(vol)"
   ]
  },
  {
   "cell_type": "markdown",
   "id": "830d0daf",
   "metadata": {},
   "source": [
    "###  Temperature Conversion: \n",
    "Write a Python program to convert a temperature from Celsius to Fahrenheit. Use the \n",
    "formula: \n",
    "Take C (temperature in Celsius) as input from the user."
   ]
  },
  {
   "cell_type": "code",
   "execution_count": 19,
   "id": "be60489f",
   "metadata": {},
   "outputs": [
    {
     "name": "stdout",
     "output_type": "stream",
     "text": [
      "Enter the temperature in Celsius: 56\n",
      "132.8\n"
     ]
    }
   ],
   "source": [
    "C = float(input(\"Enter the temperature in Celsius: \"))\n",
    "F = (C * 9/5) + 32\n",
    "\n",
    "print(F)\n"
   ]
  },
  {
   "cell_type": "code",
   "execution_count": 23,
   "id": "a63563bd",
   "metadata": {},
   "outputs": [
    {
     "name": "stdout",
     "output_type": "stream",
     "text": [
      "Enter the radius of the cylinder (r): 20\n",
      "Enter the height of the cylinder (h): 123\n",
      "154488.0\n"
     ]
    }
   ],
   "source": [
    "radius = float(input(\"Enter the radius of the cylinder (r): \"))\n",
    "height = float(input(\"Enter the height of the cylinder (h): \"))\n",
    "volume = 3.14 * (radius ** 2)*height\n",
    "print(volume)"
   ]
  },
  {
   "cell_type": "markdown",
   "id": "c5d82948",
   "metadata": {},
   "source": [
    "###  Pressure:\n",
    "Write a Python program to calculate the pressure exerted by a force on a surface. Use \n",
    "the formula: \n",
    "𝑷 = \n",
    "𝑭\n",
    "𝑨\n",
    "P = pressure \n",
    "F = force \n",
    "A = area \n",
    "Take F(force) and A(area) as inputs from the user."
   ]
  },
  {
   "cell_type": "code",
   "execution_count": 24,
   "id": "6b8c71c6",
   "metadata": {},
   "outputs": [
    {
     "name": "stdout",
     "output_type": "stream",
     "text": [
      "Enter the force in newtons: 56\n",
      "Enter the area in square meters: 1564\n",
      "The pressure exerted is: 0.03580562659846547 Pascals\n"
     ]
    }
   ],
   "source": [
    "force = float(input(\"Enter the force in newtons: \"))\n",
    "area = float(input(\"Enter the area in square meters: \"))\n",
    "pressure = force / area\n",
    "\n",
    "print(\"The pressure exerted is:\", pressure, \"Pascals\")\n"
   ]
  },
  {
   "cell_type": "markdown",
   "id": "cc808ffd",
   "metadata": {},
   "source": [
    "###  Electric Power:\n",
    "Write a Python program to calculate the electric power consumed. Use the formula: \n",
    "where: \n",
    "P = power \n",
    "V = voltage \n",
    "I = current \n",
    "Take V(voltage) and I(current) as inputs from the user.\n"
   ]
  },
  {
   "cell_type": "code",
   "execution_count": 25,
   "id": "15b6e52e",
   "metadata": {},
   "outputs": [
    {
     "name": "stdout",
     "output_type": "stream",
     "text": [
      "Enter the voltage (V) in volts: 645\n",
      "Enter the current (I) in amperes: 200\n",
      "The electric power consumed is: 129000.0 watts\n"
     ]
    }
   ],
   "source": [
    "voltage = float(input(\"Enter the voltage (V) in volts: \"))\n",
    "current = float(input(\"Enter the current (I) in amperes: \"))\n",
    "power = voltage * current\n",
    "\n",
    "print(\"The electric power consumed is:\", power, \"watts\")\n"
   ]
  },
  {
   "cell_type": "markdown",
   "id": "acb61630",
   "metadata": {},
   "source": [
    "### Perimeter of a Circle (Circumference): \n",
    "Write a Python program to calculate the perimeter (circumference) of a circle. Use the \n",
    "formula: \n",
    "Take r (radius) as input from the user. "
   ]
  },
  {
   "cell_type": "code",
   "execution_count": 26,
   "id": "986d6bd7",
   "metadata": {},
   "outputs": [
    {
     "name": "stdout",
     "output_type": "stream",
     "text": [
      "Enter the radius of the circle (r): 50\n",
      "The circumference of the circle is: 314.0\n"
     ]
    }
   ],
   "source": [
    "radius = float(input(\"Enter the radius of the circle (r): \"))\n",
    "circumference = 2 * 3.14 * radius\n",
    "\n",
    "print(\"The circumference of the circle is:\", circumference)\n"
   ]
  },
  {
   "cell_type": "markdown",
   "id": "686c6f42",
   "metadata": {},
   "source": [
    "###  Future Value in Savings:\n",
    "Write a Python program to calculate the future value of an investment. Use the formula: \n",
    "𝐹𝑉 = 𝑃𝑉(1 + 𝑟)\n",
    "௧\n",
    "where: \n",
    "o FV= future value \n",
    "o PV= present value \n",
    "o r= annual interest rate (as a decimal) \n",
    "o t= time in years \n",
    "Take PV, r, and t as inputs from the user"
   ]
  },
  {
   "cell_type": "code",
   "execution_count": 27,
   "id": "7b11801c",
   "metadata": {},
   "outputs": [
    {
     "name": "stdout",
     "output_type": "stream",
     "text": [
      "Enter the present value (PV): 2000\n",
      "Enter the annual interest rate (r): 0.02\n",
      "Enter the time in years (t): 54\n",
      "The future value of the investment is: 5826.922888280576\n"
     ]
    }
   ],
   "source": [
    "PV = float(input(\"Enter the present value (PV): \"))\n",
    "r = float(input(\"Enter the annual interest rate (r): \"))\n",
    "t = float(input(\"Enter the time in years (t): \"))\n",
    "FV = PV * (1 + r) ** t\n",
    "\n",
    "print(\"The future value of the investment is:\", FV)\n"
   ]
  },
  {
   "cell_type": "markdown",
   "id": "45bae67d",
   "metadata": {},
   "source": [
    "### ) Work Done by a Force:\n",
    "Write a Python program to calculate the work done by a force. Use the formula: \n",
    "where: \n",
    "W = work done \n",
    "f= force \n",
    "d = distance \n",
    "theta = angle between force and direction of movement (in degrees) \n",
    "Take f, d, and θ as inputs from the user."
   ]
  },
  {
   "cell_type": "code",
   "execution_count": 34,
   "id": "6c40913a",
   "metadata": {},
   "outputs": [
    {
     "name": "stdout",
     "output_type": "stream",
     "text": [
      "Enter the force in newtons: 50\n",
      "Enter the distance in meters: 10\n",
      "Enter the angle in degrees: 02\n"
     ]
    },
    {
     "ename": "NameError",
     "evalue": "name 'cos' is not defined",
     "output_type": "error",
     "traceback": [
      "\u001b[1;31m---------------------------------------------------------------------------\u001b[0m",
      "\u001b[1;31mNameError\u001b[0m                                 Traceback (most recent call last)",
      "Cell \u001b[1;32mIn[34], line 5\u001b[0m\n\u001b[0;32m      2\u001b[0m distance \u001b[38;5;241m=\u001b[39m \u001b[38;5;28mfloat\u001b[39m(\u001b[38;5;28minput\u001b[39m(\u001b[38;5;124m\"\u001b[39m\u001b[38;5;124mEnter the distance in meters: \u001b[39m\u001b[38;5;124m\"\u001b[39m))\n\u001b[0;32m      3\u001b[0m theta \u001b[38;5;241m=\u001b[39m \u001b[38;5;28mfloat\u001b[39m(\u001b[38;5;28minput\u001b[39m(\u001b[38;5;124m\"\u001b[39m\u001b[38;5;124mEnter the angle in degrees: \u001b[39m\u001b[38;5;124m\"\u001b[39m))\n\u001b[1;32m----> 5\u001b[0m work_done \u001b[38;5;241m=\u001b[39m force \u001b[38;5;241m*\u001b[39m distance \u001b[38;5;241m*\u001b[39m (cos(theta))\n\u001b[0;32m      7\u001b[0m \u001b[38;5;28mprint\u001b[39m(\u001b[38;5;124m\"\u001b[39m\u001b[38;5;124mThe work done by the force is:\u001b[39m\u001b[38;5;124m\"\u001b[39m, work_done, \u001b[38;5;124m\"\u001b[39m\u001b[38;5;124mjoules\u001b[39m\u001b[38;5;124m\"\u001b[39m)\n",
      "\u001b[1;31mNameError\u001b[0m: name 'cos' is not defined"
     ]
    }
   ],
   "source": [
    "force = float(input(\"Enter the force in newtons: \"))\n",
    "distance = float(input(\"Enter the distance in meters: \"))\n",
    "theta = float(input(\"Enter the angle in degrees: \"))\n",
    "\n",
    "work_done = force * distance * (cos(theta))\n",
    "\n",
    "print(\"The work done by the force is:\", work_done, \"joules\")\n"
   ]
  },
  {
   "cell_type": "markdown",
   "id": "3cf4078d",
   "metadata": {},
   "source": [
    "###  Heat Transfer:\n",
    "Write a Python program to calculate the amount of heat transferred. Use the formula: \n",
    "𝑄 = 𝑚𝑐 (∆T)\n",
    "where: \n",
    "Q= heat transfer \n",
    "m = mass \n",
    "c = specific heat capacity \n",
    "ΔT \n",
    "Take m, c, T as inputs from the user"
   ]
  },
  {
   "cell_type": "code",
   "execution_count": 37,
   "id": "fd84b315",
   "metadata": {},
   "outputs": [
    {
     "name": "stdout",
     "output_type": "stream",
     "text": [
      "Enter the mass (m) in kilograms: 510\n",
      "Enter the specific heat capacity in J/kg°C: 20\n",
      "enter the delta_t : 60\n",
      "The amount of heat transferred is: 612000.0 joules\n"
     ]
    }
   ],
   "source": [
    "mass = float(input(\"Enter the mass (m) in kilograms: \"))\n",
    "specific_heat_capacity = float(input(\"Enter the specific heat capacity in J/kg°C: \"))\n",
    "t = eval(input(\"enter the delta_t : \"))\n",
    "\n",
    "heat_transfer = mass * specific_heat_capacity * t\n",
    "\n",
    "\n",
    "print(\"The amount of heat transferred is:\", heat_transfer, \"joules\")\n"
   ]
  },
  {
   "cell_type": "markdown",
   "id": "92e223ca",
   "metadata": {},
   "source": [
    "###  Gravitational Force: \n",
    "Write a Python program to calculate the gravitational force between two objects. Use \n",
    "the formula \n",
    "𝑭 = 𝑮\n",
    "𝒎𝟏 ∗ 𝒎𝟐\n",
    "𝒓\n",
    "𝟐\n",
    "m1, m2 are the masses of the objects \n",
    "r = distance between the centers of the objects \n",
    "Take m1, m2 and r as inputs from the user.\n"
   ]
  },
  {
   "cell_type": "code",
   "execution_count": 38,
   "id": "b5f7fa57",
   "metadata": {},
   "outputs": [
    {
     "name": "stdout",
     "output_type": "stream",
     "text": [
      "Enter the mass of the first object (m1) in kilograms: 200\n",
      "Enter the mass of the second object (m2) in kilograms: 1616\n",
      "Enter the distance between the centers of the objects (r) in meters: 30\n",
      "The gravitational force between the two objects is: 2.3967075555555552e-08 newtons\n"
     ]
    }
   ],
   "source": [
    "G = 6.674 * (10**-11)  # in N m^2 / kg^2\n",
    "\n",
    "m1 = float(input(\"Enter the mass of the first object (m1) in kilograms: \"))\n",
    "m2 = float(input(\"Enter the mass of the second object (m2) in kilograms: \"))\n",
    "r = float(input(\"Enter the distance between the centers of the objects (r) in meters: \"))\n",
    "\n",
    "# Calculate the gravitational force\n",
    "gravitational_force = G * m1 * m2 / (r ** 2)\n",
    "\n",
    "print(\"The gravitational force between the two objects is:\", gravitational_force, \"newtons\")\n"
   ]
  },
  {
   "cell_type": "markdown",
   "id": "9db1a978",
   "metadata": {},
   "source": [
    "### kinetic Energy: \n",
    "Write a Python program to calculate the kinetic energy of an object. Use the formula: \n",
    "𝑲𝑬 =\n",
    "𝟏\n",
    "𝟐\n",
    "𝒎 𝑽\n",
    "𝟐\n",
    "Take m (mass in kilograms) and v (velocity in meters/second) as inputs from the user. "
   ]
  },
  {
   "cell_type": "code",
   "execution_count": 39,
   "id": "d1b1ab1a",
   "metadata": {},
   "outputs": [
    {
     "name": "stdout",
     "output_type": "stream",
     "text": [
      "Enter the mass in kilograms: 565\n",
      "Enter the velocity in meters/second: 21\n",
      "The kinetic energy of the object is: 124582.5 joules\n"
     ]
    }
   ],
   "source": [
    "mass = float(input(\"Enter the mass in kilograms: \"))\n",
    "velocity = float(input(\"Enter the velocity in meters/second: \"))\n",
    "\n",
    "kinetic_energy = 0.5 * mass * (velocity ** 2)\n",
    "\n",
    "print(\"The kinetic energy of the object is:\"\n",
    "      , kinetic_energy, \"joules\")\n"
   ]
  },
  {
   "cell_type": "code",
   "execution_count": null,
   "id": "f6402288",
   "metadata": {},
   "outputs": [],
   "source": []
  }
 ],
 "metadata": {
  "kernelspec": {
   "display_name": "Python 3 (ipykernel)",
   "language": "python",
   "name": "python3"
  },
  "language_info": {
   "codemirror_mode": {
    "name": "ipython",
    "version": 3
   },
   "file_extension": ".py",
   "mimetype": "text/x-python",
   "name": "python",
   "nbconvert_exporter": "python",
   "pygments_lexer": "ipython3",
   "version": "3.13.1"
  }
 },
 "nbformat": 4,
 "nbformat_minor": 5
}
